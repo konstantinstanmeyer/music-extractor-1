{
  "nbformat": 4,
  "nbformat_minor": 0,
  "metadata": {
    "colab": {
      "provenance": [],
      "include_colab_link": true
    },
    "kernelspec": {
      "name": "python3",
      "display_name": "Python 3"
    },
    "language_info": {
      "name": "python"
    }
  },
  "cells": [
    {
      "cell_type": "markdown",
      "metadata": {
        "id": "view-in-github",
        "colab_type": "text"
      },
      "source": [
        "<a href=\"https://colab.research.google.com/github/konstantinstanmeyer/music-extractor-1/blob/main/find_notes.ipynb\" target=\"_parent\"><img src=\"https://colab.research.google.com/assets/colab-badge.svg\" alt=\"Open In Colab\"/></a>"
      ]
    },
    {
      "cell_type": "code",
      "source": [
        "# imports\n",
        "\n",
        "import os # validates if audio files already exist locally\n"
      ],
      "metadata": {
        "id": "uz9E_c9sSnzG"
      },
      "execution_count": 8,
      "outputs": []
    },
    {
      "cell_type": "code",
      "source": [
        "# file downloads\n",
        "\n",
        "# audio file name, without file extension\n",
        "current_song = 'wish-you-were-here'\n",
        "\n",
        "# possibly remove boolean check once jupyter notebook's behavior is figured out\n",
        "\n",
        "if not os.path.isfile(\"{current_song}.wav\".format(current_song=current_song)):\n",
        "  print(\"file downloads starting...\")\n",
        "\n",
        "  # match import to current_song\n",
        "  !wget https://github.com/konstantinstanmeyer/music-extractor-files/raw/main/wish-you-were-here.m4a\n",
        "  !ls\n",
        "\n",
        "  # convert file type(s) to wav // check if this is necessary // add alternate file type handling once\n",
        "  if os.path.isfile(\"{current_song}.m4a\".format(current_song=current_song)):\n",
        "    !ffmpeg -i {current_song}.m4a {current_song}.wav"
      ],
      "metadata": {
        "id": "s2qbiXBWS9WD",
        "colab": {
          "base_uri": "https://localhost:8080/"
        },
        "outputId": "cbefebc6-b2ce-4484-ea25-12813e053dee"
      },
      "execution_count": 9,
      "outputs": [
        {
          "output_type": "stream",
          "name": "stdout",
          "text": [
            "file downloads starting...\n",
            "--2023-10-31 21:15:29--  https://github.com/konstantinstanmeyer/music-extractor-files/raw/main/wish-you-were-here.m4a\n",
            "Resolving github.com (github.com)... 20.27.177.113\n",
            "Connecting to github.com (github.com)|20.27.177.113|:443... connected.\n",
            "HTTP request sent, awaiting response... 302 Found\n",
            "Location: https://raw.githubusercontent.com/konstantinstanmeyer/music-extractor-files/main/wish-you-were-here.m4a [following]\n",
            "--2023-10-31 21:15:29--  https://raw.githubusercontent.com/konstantinstanmeyer/music-extractor-files/main/wish-you-were-here.m4a\n",
            "Resolving raw.githubusercontent.com (raw.githubusercontent.com)... 185.199.109.133, 185.199.110.133, 185.199.108.133, ...\n",
            "Connecting to raw.githubusercontent.com (raw.githubusercontent.com)|185.199.109.133|:443... connected.\n",
            "HTTP request sent, awaiting response... 200 OK\n",
            "Length: 484583 (473K) [audio/mp4]\n",
            "Saving to: ‘wish-you-were-here.m4a’\n",
            "\n",
            "wish-you-were-here. 100%[===================>] 473.23K  2.99MB/s    in 0.2s    \n",
            "\n",
            "2023-10-31 21:15:30 (2.99 MB/s) - ‘wish-you-were-here.m4a’ saved [484583/484583]\n",
            "\n",
            "sample_data  wish-you-were-here.m4a\n",
            "ffmpeg version 4.4.2-0ubuntu0.22.04.1 Copyright (c) 2000-2021 the FFmpeg developers\n",
            "  built with gcc 11 (Ubuntu 11.2.0-19ubuntu1)\n",
            "  configuration: --prefix=/usr --extra-version=0ubuntu0.22.04.1 --toolchain=hardened --libdir=/usr/lib/x86_64-linux-gnu --incdir=/usr/include/x86_64-linux-gnu --arch=amd64 --enable-gpl --disable-stripping --enable-gnutls --enable-ladspa --enable-libaom --enable-libass --enable-libbluray --enable-libbs2b --enable-libcaca --enable-libcdio --enable-libcodec2 --enable-libdav1d --enable-libflite --enable-libfontconfig --enable-libfreetype --enable-libfribidi --enable-libgme --enable-libgsm --enable-libjack --enable-libmp3lame --enable-libmysofa --enable-libopenjpeg --enable-libopenmpt --enable-libopus --enable-libpulse --enable-librabbitmq --enable-librubberband --enable-libshine --enable-libsnappy --enable-libsoxr --enable-libspeex --enable-libsrt --enable-libssh --enable-libtheora --enable-libtwolame --enable-libvidstab --enable-libvorbis --enable-libvpx --enable-libwebp --enable-libx265 --enable-libxml2 --enable-libxvid --enable-libzimg --enable-libzmq --enable-libzvbi --enable-lv2 --enable-omx --enable-openal --enable-opencl --enable-opengl --enable-sdl2 --enable-pocketsphinx --enable-librsvg --enable-libmfx --enable-libdc1394 --enable-libdrm --enable-libiec61883 --enable-chromaprint --enable-frei0r --enable-libx264 --enable-shared\n",
            "  libavutil      56. 70.100 / 56. 70.100\n",
            "  libavcodec     58.134.100 / 58.134.100\n",
            "  libavformat    58. 76.100 / 58. 76.100\n",
            "  libavdevice    58. 13.100 / 58. 13.100\n",
            "  libavfilter     7.110.100 /  7.110.100\n",
            "  libswscale      5.  9.100 /  5.  9.100\n",
            "  libswresample   3.  9.100 /  3.  9.100\n",
            "  libpostproc    55.  9.100 / 55.  9.100\n",
            "Input #0, mov,mp4,m4a,3gp,3g2,mj2, from 'wish-you-were-here.m4a':\n",
            "  Metadata:\n",
            "    major_brand     : M4A \n",
            "    minor_version   : 0\n",
            "    compatible_brands: M4A isommp42\n",
            "    creation_time   : 2023-10-28T18:45:21.000000Z\n",
            "    iTunSMPB        :  00000000 000007C3 00000376 00000000001164C7 00000000 00000000 00000000 00000000 00000000 00000000 00000000 00000000\n",
            "  Duration: 00:00:25.85, start: 0.045057, bitrate: 149 kb/s\n",
            "  Stream #0:0(und): Audio: aac (LC) (mp4a / 0x6134706D), 44100 Hz, stereo, fltp, 147 kb/s (default)\n",
            "    Metadata:\n",
            "      creation_time   : 2023-10-28T18:45:21.000000Z\n",
            "      handler_name    : Core Media Audio\n",
            "      vendor_id       : [0][0][0][0]\n",
            "Stream mapping:\n",
            "  Stream #0:0 -> #0:0 (aac (native) -> pcm_s16le (native))\n",
            "Press [q] to stop, [?] for help\n",
            "Output #0, wav, to 'wish-you-were-here.wav':\n",
            "  Metadata:\n",
            "    major_brand     : M4A \n",
            "    minor_version   : 0\n",
            "    compatible_brands: M4A isommp42\n",
            "    iTunSMPB        :  00000000 000007C3 00000376 00000000001164C7 00000000 00000000 00000000 00000000 00000000 00000000 00000000 00000000\n",
            "    ISFT            : Lavf58.76.100\n",
            "  Stream #0:0(und): Audio: pcm_s16le ([1][0][0][0] / 0x0001), 44100 Hz, stereo, s16, 1411 kb/s (default)\n",
            "    Metadata:\n",
            "      creation_time   : 2023-10-28T18:45:21.000000Z\n",
            "      handler_name    : Core Media Audio\n",
            "      vendor_id       : [0][0][0][0]\n",
            "      encoder         : Lavc58.134.100 pcm_s16le\n",
            "size=    4456kB time=00:00:25.84 bitrate=1412.5kbits/s speed= 454x    \n",
            "video:0kB audio:4456kB subtitle:0kB other streams:0kB global headers:0kB muxing overhead: 0.001709%\n"
          ]
        }
      ]
    },
    {
      "cell_type": "code",
      "source": [
        "!ls"
      ],
      "metadata": {
        "id": "tzxXCt5rfTfW",
        "outputId": "d3a40422-8c15-416a-dfcd-700be9f6e43e",
        "colab": {
          "base_uri": "https://localhost:8080/"
        }
      },
      "execution_count": 6,
      "outputs": [
        {
          "output_type": "stream",
          "name": "stdout",
          "text": [
            "sample_data\n"
          ]
        }
      ]
    },
    {
      "cell_type": "code",
      "execution_count": null,
      "metadata": {
        "id": "f_of9KYPSf_U"
      },
      "outputs": [],
      "source": [
        "# initializing key values: define fft windows,\n",
        "\n",
        "# FUTURE: add note start times, then define windows to be 100ms(likely something a slight bit larger)\n",
        "FFT_WINDOW_SECONDS = 0.25"
      ]
    },
    {
      "cell_type": "code",
      "source": [
        "!pip install pydub"
      ],
      "metadata": {
        "colab": {
          "base_uri": "https://localhost:8080/"
        },
        "id": "SIllXZQBkkFd",
        "outputId": "8e07a975-f706-4a5e-e5b0-4b37bf0ae048"
      },
      "execution_count": 2,
      "outputs": [
        {
          "output_type": "stream",
          "name": "stdout",
          "text": [
            "Collecting pydub\n",
            "  Downloading pydub-0.25.1-py2.py3-none-any.whl (32 kB)\n",
            "Installing collected packages: pydub\n",
            "Successfully installed pydub-0.25.1\n"
          ]
        }
      ]
    },
    {
      "cell_type": "code",
      "source": [
        "# finding note starts\n",
        "# code adjusted from Ian Vonseggern's NotePrediction Project: https://github.com/ianvonseggern1/note-prediction/blob/master/note_recognition.py\n",
        "# big-boy thanks! https://www.linkedin.com/in/ian-vonseggern-83699b154/\n",
        "\n",
        "from pydub import AudioSegment\n",
        "\n",
        "def predict_note_starts(song):\n",
        "    # Size of segments to break song into for volume calculations\n",
        "    SEGMENT_MS = 50\n",
        "    # Minimum volume necessary to be considered a note\n",
        "    VOLUME_THRESHOLD = -35\n",
        "    # The increase from one sample to the next required to be considered a note\n",
        "    EDGE_THRESHOLD = 5\n",
        "    # Throw out any additional notes found in this window\n",
        "    MIN_MS_BETWEEN = 100\n",
        "\n",
        "    # Filter out lower frequencies to reduce noise\n",
        "    # song = song.high_pass_filter(80)\n",
        "    # dBFS is decibels relative to the maximum possible loudness\n",
        "    volume = [segment.dBFS for segment in song[::SEGMENT_MS]]\n",
        "\n",
        "    predicted_starts = []\n",
        "    for i in range(1, len(volume)):\n",
        "        if volume[i] > VOLUME_THRESHOLD and volume[i] - volume[i - 1] > EDGE_THRESHOLD:\n",
        "            ms = i * SEGMENT_MS\n",
        "            # Ignore any too close together\n",
        "            if len(predicted_starts) == 0 or ms - predicted_starts[-1] >= MIN_MS_BETWEEN:\n",
        "                predicted_starts.append(ms)\n",
        "\n",
        "    return predicted_starts, song\n",
        "\n",
        "    # If actual note start times are provided print a comparison\n",
        "    # if len(actual_starts) > 0:\n",
        "    #     print(\"Approximate actual note start times ({})\".format(len(actual_starts)))\n",
        "    #     print(\" \".join([\"{:5.2f}\".format(s) for s in actual_starts]))\n",
        "    #     print(\"Predicted note start times ({})\".format(len(predicted_starts)))\n",
        "    #     print(\" \".join([\"{:5.2f}\".format(ms / 1000) for ms in predicted_starts]))"
      ],
      "metadata": {
        "id": "IIoCWWEXkK3b"
      },
      "execution_count": 17,
      "outputs": []
    },
    {
      "cell_type": "code",
      "source": [
        "song = AudioSegment.from_file(\"wish-you-were-here.wav\")\n",
        "\n",
        "predict_note_starts(song)"
      ],
      "metadata": {
        "colab": {
          "base_uri": "https://localhost:8080/"
        },
        "id": "6SfdFNcTlET-",
        "outputId": "39468b58-bf1a-4a52-ccb1-b01d25085f87"
      },
      "execution_count": 18,
      "outputs": [
        {
          "output_type": "execute_result",
          "data": {
            "text/plain": [
              "([350,\n",
              "  850,\n",
              "  1300,\n",
              "  2250,\n",
              "  4250,\n",
              "  4750,\n",
              "  5200,\n",
              "  6200,\n",
              "  7650,\n",
              "  8100,\n",
              "  8550,\n",
              "  9050,\n",
              "  10050,\n",
              "  12000,\n",
              "  12950,\n",
              "  13900,\n",
              "  15350,\n",
              "  15800,\n",
              "  16300,\n",
              "  16800,\n",
              "  17750,\n",
              "  19200,\n",
              "  19700,\n",
              "  20550,\n",
              "  21300,\n",
              "  21550,\n",
              "  23450,\n",
              "  23950,\n",
              "  24400,\n",
              "  25350],\n",
              " <pydub.audio_segment.AudioSegment at 0x7ee96bfc1240>)"
            ]
          },
          "metadata": {},
          "execution_count": 18
        }
      ]
    }
  ]
}