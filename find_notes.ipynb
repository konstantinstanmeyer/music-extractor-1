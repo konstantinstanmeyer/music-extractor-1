{
  "nbformat": 4,
  "nbformat_minor": 0,
  "metadata": {
    "colab": {
      "provenance": [],
      "authorship_tag": "ABX9TyNprlSLLAkW4809GAJYIIek",
      "include_colab_link": true
    },
    "kernelspec": {
      "name": "python3",
      "display_name": "Python 3"
    },
    "language_info": {
      "name": "python"
    }
  },
  "cells": [
    {
      "cell_type": "markdown",
      "metadata": {
        "id": "view-in-github",
        "colab_type": "text"
      },
      "source": [
        "<a href=\"https://colab.research.google.com/github/konstantinstanmeyer/music-extractor-1/blob/main/find_notes.ipynb\" target=\"_parent\"><img src=\"https://colab.research.google.com/assets/colab-badge.svg\" alt=\"Open In Colab\"/></a>"
      ]
    },
    {
      "cell_type": "code",
      "source": [
        "# imports\n",
        "\n",
        "import os # validates if audio files already exist locally\n"
      ],
      "metadata": {
        "id": "uz9E_c9sSnzG"
      },
      "execution_count": null,
      "outputs": []
    },
    {
      "cell_type": "code",
      "source": [
        "# file downloads\n",
        "\n",
        "if !os.path.isfile('wish-you-were-here.m4a'):\n",
        "  print(\"file downloads starting...\")"
      ],
      "metadata": {
        "id": "s2qbiXBWS9WD"
      },
      "execution_count": null,
      "outputs": []
    },
    {
      "cell_type": "code",
      "execution_count": null,
      "metadata": {
        "id": "f_of9KYPSf_U"
      },
      "outputs": [],
      "source": [
        "FFT_WINDOW_SECONDS = 0.25"
      ]
    }
  ]
}