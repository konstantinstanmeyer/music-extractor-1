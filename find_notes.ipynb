{
  "nbformat": 4,
  "nbformat_minor": 0,
  "metadata": {
    "colab": {
      "provenance": [],
      "authorship_tag": "ABX9TyOVJnE8A2GkWGowojrGEqYq",
      "include_colab_link": true
    },
    "kernelspec": {
      "name": "python3",
      "display_name": "Python 3"
    },
    "language_info": {
      "name": "python"
    }
  },
  "cells": [
    {
      "cell_type": "markdown",
      "metadata": {
        "id": "view-in-github",
        "colab_type": "text"
      },
      "source": [
        "<a href=\"https://colab.research.google.com/github/konstantinstanmeyer/music-extractor-1/blob/main/find_notes.ipynb\" target=\"_parent\"><img src=\"https://colab.research.google.com/assets/colab-badge.svg\" alt=\"Open In Colab\"/></a>"
      ]
    },
    {
      "cell_type": "code",
      "source": [
        "# imports\n",
        "\n",
        "import os # validates if audio files already exist locally\n"
      ],
      "metadata": {
        "id": "uz9E_c9sSnzG"
      },
      "execution_count": 3,
      "outputs": []
    },
    {
      "cell_type": "code",
      "source": [
        "# file downloads\n",
        "\n",
        "# audio file name, without file extension\n",
        "current_song = 'wish-you-were-here'\n",
        "\n",
        "# possibly remove boolean check once jupyter notebook's behavior is figured out\n",
        "\n",
        "if not os.path.isfile(\"{current_song}.wav\".format(current_song=current_song)):\n",
        "  print(\"file downloads starting...\")\n",
        "\n",
        "  # match import to current_song\n",
        "  !wget https://github.com/konstantinstanmeyer/music-extractor-files/raw/main/wish-you-were-here.m4a\n",
        "  !ls\n",
        "\n",
        "  # convert file type(s) to wav // check if this is necessary // add alternate file type handling once\n",
        "  if os.path.isfile(\"{current_song}.m4a\".format(current_song=current_song)):\n",
        "    !ffmpeg -i {current_song}.m4a {current_song}.wav"
      ],
      "metadata": {
        "id": "s2qbiXBWS9WD",
        "colab": {
          "base_uri": "https://localhost:8080/"
        },
        "outputId": "c46d6fb1-49a0-4e75-c016-59f967fc193a"
      },
      "execution_count": 6,
      "outputs": [
        {
          "output_type": "stream",
          "name": "stdout",
          "text": [
            "file downloads starting...\n",
            "--2023-10-31 16:07:08--  https://github.com/konstantinstanmeyer/music-extractor-files/raw/main/wish-you-were-here.m4a\n",
            "Resolving github.com (github.com)... 192.30.255.113\n",
            "Connecting to github.com (github.com)|192.30.255.113|:443... connected.\n",
            "HTTP request sent, awaiting response... 302 Found\n",
            "Location: https://raw.githubusercontent.com/konstantinstanmeyer/music-extractor-files/main/wish-you-were-here.m4a [following]\n",
            "--2023-10-31 16:07:09--  https://raw.githubusercontent.com/konstantinstanmeyer/music-extractor-files/main/wish-you-were-here.m4a\n",
            "Resolving raw.githubusercontent.com (raw.githubusercontent.com)... 185.199.108.133, 185.199.109.133, 185.199.110.133, ...\n",
            "Connecting to raw.githubusercontent.com (raw.githubusercontent.com)|185.199.108.133|:443... connected.\n",
            "HTTP request sent, awaiting response... 200 OK\n",
            "Length: 484583 (473K) [audio/mp4]\n",
            "Saving to: ‘wish-you-were-here.m4a’\n",
            "\n",
            "wish-you-were-here. 100%[===================>] 473.23K  --.-KB/s    in 0.02s   \n",
            "\n",
            "2023-10-31 16:07:09 (20.3 MB/s) - ‘wish-you-were-here.m4a’ saved [484583/484583]\n",
            "\n",
            "sample_data  wish-you-were-here.m4a\n",
            "ffmpeg version 4.4.2-0ubuntu0.22.04.1 Copyright (c) 2000-2021 the FFmpeg developers\n",
            "  built with gcc 11 (Ubuntu 11.2.0-19ubuntu1)\n",
            "  configuration: --prefix=/usr --extra-version=0ubuntu0.22.04.1 --toolchain=hardened --libdir=/usr/lib/x86_64-linux-gnu --incdir=/usr/include/x86_64-linux-gnu --arch=amd64 --enable-gpl --disable-stripping --enable-gnutls --enable-ladspa --enable-libaom --enable-libass --enable-libbluray --enable-libbs2b --enable-libcaca --enable-libcdio --enable-libcodec2 --enable-libdav1d --enable-libflite --enable-libfontconfig --enable-libfreetype --enable-libfribidi --enable-libgme --enable-libgsm --enable-libjack --enable-libmp3lame --enable-libmysofa --enable-libopenjpeg --enable-libopenmpt --enable-libopus --enable-libpulse --enable-librabbitmq --enable-librubberband --enable-libshine --enable-libsnappy --enable-libsoxr --enable-libspeex --enable-libsrt --enable-libssh --enable-libtheora --enable-libtwolame --enable-libvidstab --enable-libvorbis --enable-libvpx --enable-libwebp --enable-libx265 --enable-libxml2 --enable-libxvid --enable-libzimg --enable-libzmq --enable-libzvbi --enable-lv2 --enable-omx --enable-openal --enable-opencl --enable-opengl --enable-sdl2 --enable-pocketsphinx --enable-librsvg --enable-libmfx --enable-libdc1394 --enable-libdrm --enable-libiec61883 --enable-chromaprint --enable-frei0r --enable-libx264 --enable-shared\n",
            "  libavutil      56. 70.100 / 56. 70.100\n",
            "  libavcodec     58.134.100 / 58.134.100\n",
            "  libavformat    58. 76.100 / 58. 76.100\n",
            "  libavdevice    58. 13.100 / 58. 13.100\n",
            "  libavfilter     7.110.100 /  7.110.100\n",
            "  libswscale      5.  9.100 /  5.  9.100\n",
            "  libswresample   3.  9.100 /  3.  9.100\n",
            "  libpostproc    55.  9.100 / 55.  9.100\n",
            "Input #0, mov,mp4,m4a,3gp,3g2,mj2, from 'wish-you-were-here.m4a':\n",
            "  Metadata:\n",
            "    major_brand     : M4A \n",
            "    minor_version   : 0\n",
            "    compatible_brands: M4A isommp42\n",
            "    creation_time   : 2023-10-28T18:45:21.000000Z\n",
            "    iTunSMPB        :  00000000 000007C3 00000376 00000000001164C7 00000000 00000000 00000000 00000000 00000000 00000000 00000000 00000000\n",
            "  Duration: 00:00:25.85, start: 0.045057, bitrate: 149 kb/s\n",
            "  Stream #0:0(und): Audio: aac (LC) (mp4a / 0x6134706D), 44100 Hz, stereo, fltp, 147 kb/s (default)\n",
            "    Metadata:\n",
            "      creation_time   : 2023-10-28T18:45:21.000000Z\n",
            "      handler_name    : Core Media Audio\n",
            "      vendor_id       : [0][0][0][0]\n",
            "Stream mapping:\n",
            "  Stream #0:0 -> #0:0 (aac (native) -> pcm_s16le (native))\n",
            "Press [q] to stop, [?] for help\n",
            "Output #0, wav, to 'wish-you-were-here.wav':\n",
            "  Metadata:\n",
            "    major_brand     : M4A \n",
            "    minor_version   : 0\n",
            "    compatible_brands: M4A isommp42\n",
            "    iTunSMPB        :  00000000 000007C3 00000376 00000000001164C7 00000000 00000000 00000000 00000000 00000000 00000000 00000000 00000000\n",
            "    ISFT            : Lavf58.76.100\n",
            "  Stream #0:0(und): Audio: pcm_s16le ([1][0][0][0] / 0x0001), 44100 Hz, stereo, s16, 1411 kb/s (default)\n",
            "    Metadata:\n",
            "      creation_time   : 2023-10-28T18:45:21.000000Z\n",
            "      handler_name    : Core Media Audio\n",
            "      vendor_id       : [0][0][0][0]\n",
            "      encoder         : Lavc58.134.100 pcm_s16le\n",
            "size=    4456kB time=00:00:25.84 bitrate=1412.5kbits/s speed= 359x    \n",
            "video:0kB audio:4456kB subtitle:0kB other streams:0kB global headers:0kB muxing overhead: 0.001709%\n"
          ]
        }
      ]
    },
    {
      "cell_type": "code",
      "source": [
        "!ls"
      ],
      "metadata": {
        "colab": {
          "base_uri": "https://localhost:8080/"
        },
        "id": "tzxXCt5rfTfW",
        "outputId": "f2557c69-885c-4b48-c3c8-a3b847f567f2"
      },
      "execution_count": 7,
      "outputs": [
        {
          "output_type": "stream",
          "name": "stdout",
          "text": [
            "sample_data  wish-you-were-here.m4a  wish-you-were-here.wav\n"
          ]
        }
      ]
    },
    {
      "cell_type": "code",
      "execution_count": null,
      "metadata": {
        "id": "f_of9KYPSf_U"
      },
      "outputs": [],
      "source": [
        "# initializing key values: define fft windows,\n",
        "\n",
        "FFT_WINDOW_SECONDS = 0.25"
      ]
    }
  ]
}